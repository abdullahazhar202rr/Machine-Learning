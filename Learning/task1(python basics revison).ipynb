{
 "cells": [
  {
   "cell_type": "code",
   "execution_count": 1,
   "id": "80750281-26f0-46a2-98ae-e6469a5ac20f",
   "metadata": {},
   "outputs": [],
   "source": [
    "a=[1,2,2,3,'abdullah',2]"
   ]
  },
  {
   "cell_type": "code",
   "execution_count": 5,
   "id": "6e3aa941-c022-4ed1-a3f1-522170a2362d",
   "metadata": {},
   "outputs": [
    {
     "name": "stdout",
     "output_type": "stream",
     "text": [
      "1\n",
      "2\n",
      "2\n",
      "3\n",
      "abdullah\n",
      "2\n"
     ]
    }
   ],
   "source": [
    "for item in a:\n",
    "    print(item)"
   ]
  },
  {
   "cell_type": "code",
   "execution_count": 8,
   "id": "01a957db-8e74-43f0-8f80-8d7b73be59e0",
   "metadata": {},
   "outputs": [],
   "source": [
    "counting={}"
   ]
  },
  {
   "cell_type": "code",
   "execution_count": 9,
   "id": "9e734d46-60ef-469d-a588-0df05e2a14ab",
   "metadata": {},
   "outputs": [],
   "source": [
    "for item in a:\n",
    "    counting[item]=counting.get(item,0)+1"
   ]
  },
  {
   "cell_type": "code",
   "execution_count": 10,
   "id": "4089baee-8991-4f9e-86d9-dad4c710d226",
   "metadata": {},
   "outputs": [
    {
     "data": {
      "text/plain": [
       "{1: 1, 2: 3, 3: 1, 'abdullah': 1}"
      ]
     },
     "execution_count": 10,
     "metadata": {},
     "output_type": "execute_result"
    }
   ],
   "source": [
    "counting"
   ]
  },
  {
   "cell_type": "code",
   "execution_count": 73,
   "id": "f6842b08-4e00-4019-b518-ac9fd9033ec4",
   "metadata": {},
   "outputs": [],
   "source": [
    "class Counting:\n",
    "    def __init__(self,dict=None):\n",
    "        print('object made')\n",
    "        self.count={}\n",
    "        if (dict is None):\n",
    "            print(f\"Count dict is {'empty' if not self.count else self.count} currently\")\n",
    "        else:\n",
    "            for item in dict:\n",
    "                self.count[item]=self.count.get(item,0)+1\n",
    "            print(self.count)\n",
    "    def showcount(self,dict):\n",
    "        for item in dict:\n",
    "            self.count[item]=self.count.get(item,0) +1\n",
    "        print(self.count)"
   ]
  },
  {
   "cell_type": "code",
   "execution_count": 74,
   "id": "94ec07c3-484c-4e31-aef7-6dfd905d1236",
   "metadata": {},
   "outputs": [
    {
     "name": "stdout",
     "output_type": "stream",
     "text": [
      "object made\n",
      "Count dict is empty currently\n"
     ]
    }
   ],
   "source": [
    "obj=Counting()"
   ]
  },
  {
   "cell_type": "code",
   "execution_count": 75,
   "id": "f0731c81-dfd6-4b95-99e4-f5bbdd58389d",
   "metadata": {},
   "outputs": [],
   "source": [
    "obj.count['first']=1"
   ]
  },
  {
   "cell_type": "code",
   "execution_count": 76,
   "id": "fd7dbaf1-a90d-4196-9746-99aa7ccf20e3",
   "metadata": {},
   "outputs": [
    {
     "data": {
      "text/plain": [
       "{'first': 1}"
      ]
     },
     "execution_count": 76,
     "metadata": {},
     "output_type": "execute_result"
    }
   ],
   "source": [
    "obj.count"
   ]
  },
  {
   "cell_type": "code",
   "execution_count": 77,
   "id": "16dadf41-4fe3-42e7-bdc0-cff4c7bfe385",
   "metadata": {},
   "outputs": [
    {
     "name": "stdout",
     "output_type": "stream",
     "text": [
      "object made\n",
      "Count dict is empty currently\n"
     ]
    }
   ],
   "source": [
    "obj2=Counting()"
   ]
  },
  {
   "cell_type": "code",
   "execution_count": 78,
   "id": "dfa540ff-5c9e-4528-b3eb-e7868e9337d6",
   "metadata": {},
   "outputs": [],
   "source": [
    "tuple= (1,3,'abdullah','azhar',2,3,1,1,1)"
   ]
  },
  {
   "cell_type": "code",
   "execution_count": 79,
   "id": "2e515adc-6a8a-454b-9385-952f0783716c",
   "metadata": {},
   "outputs": [
    {
     "name": "stdout",
     "output_type": "stream",
     "text": [
      "{'first': 1, 1: 4, 3: 2, 'abdullah': 1, 'azhar': 1, 2: 1}\n"
     ]
    }
   ],
   "source": [
    "obj.showcount(tuple)"
   ]
  },
  {
   "cell_type": "code",
   "execution_count": 80,
   "id": "9ad4ebd6-31fe-47cc-be4e-38cff9e9fa9b",
   "metadata": {},
   "outputs": [],
   "source": [
    "for item in tuple:\n",
    "    obj.count[item]=obj.count.get(item,0)+1"
   ]
  },
  {
   "cell_type": "code",
   "execution_count": 81,
   "id": "774023e9-bcec-449d-8add-fdca5065cae8",
   "metadata": {},
   "outputs": [
    {
     "data": {
      "text/plain": [
       "{'first': 1, 1: 8, 3: 4, 'abdullah': 2, 'azhar': 2, 2: 2}"
      ]
     },
     "execution_count": 81,
     "metadata": {},
     "output_type": "execute_result"
    }
   ],
   "source": [
    "obj.count"
   ]
  },
  {
   "cell_type": "code",
   "execution_count": 82,
   "id": "4165c330-b1d0-4f09-bf60-6e397a4a9f99",
   "metadata": {},
   "outputs": [],
   "source": [
    "list=[1,1,1,1,12,2,2,'abdullah']"
   ]
  },
  {
   "cell_type": "code",
   "execution_count": 83,
   "id": "ae4d3571-07a6-4dc3-8ad6-68ab88df77e7",
   "metadata": {},
   "outputs": [
    {
     "name": "stdout",
     "output_type": "stream",
     "text": [
      "object made\n",
      "{1: 4, 12: 1, 2: 2, 'abdullah': 1}\n"
     ]
    }
   ],
   "source": [
    "obj3=Counting(list)"
   ]
  },
  {
   "cell_type": "code",
   "execution_count": null,
   "id": "be903df6-e812-442a-9bdd-6c786c028891",
   "metadata": {},
   "outputs": [],
   "source": []
  }
 ],
 "metadata": {
  "kernelspec": {
   "display_name": "Python 3 (ipykernel)",
   "language": "python",
   "name": "python3"
  },
  "language_info": {
   "codemirror_mode": {
    "name": "ipython",
    "version": 3
   },
   "file_extension": ".py",
   "mimetype": "text/x-python",
   "name": "python",
   "nbconvert_exporter": "python",
   "pygments_lexer": "ipython3",
   "version": "3.10.18"
  }
 },
 "nbformat": 4,
 "nbformat_minor": 5
}
